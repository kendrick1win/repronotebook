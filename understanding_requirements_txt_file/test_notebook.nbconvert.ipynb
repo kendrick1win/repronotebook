{
 "cells": [
  {
   "cell_type": "code",
   "execution_count": 1,
   "id": "c41535df",
   "metadata": {
    "execution": {
     "iopub.execute_input": "2025-06-14T13:12:06.777142Z",
     "iopub.status.busy": "2025-06-14T13:12:06.776806Z",
     "iopub.status.idle": "2025-06-14T13:12:06.782019Z",
     "shell.execute_reply": "2025-06-14T13:12:06.781270Z"
    }
   },
   "outputs": [],
   "source": [
    "# Test without requirements.txt to see the difference\n",
    "# jupyter nbconvert --to notebook --execute test_notebook.ipynb"
   ]
  },
  {
   "cell_type": "code",
   "execution_count": 2,
   "id": "4a52be86",
   "metadata": {
    "execution": {
     "iopub.execute_input": "2025-06-14T13:12:06.785383Z",
     "iopub.status.busy": "2025-06-14T13:12:06.785111Z",
     "iopub.status.idle": "2025-06-14T13:12:26.390604Z",
     "shell.execute_reply": "2025-06-14T13:12:26.390367Z"
    }
   },
   "outputs": [
    {
     "name": "stderr",
     "output_type": "stream",
     "text": [
      "Matplotlib is building the font cache; this may take a moment.\n"
     ]
    },
    {
     "name": "stdout",
     "output_type": "stream",
     "text": [
      "All imports succeeded!\n"
     ]
    }
   ],
   "source": [
    "import numpy as np\n",
    "import pandas as pd\n",
    "import matplotlib.pyplot as plt\n",
    "\n",
    "print(\"All imports succeeded!\")\n"
   ]
  },
  {
   "cell_type": "code",
   "execution_count": null,
   "id": "827d3e37",
   "metadata": {},
   "outputs": [],
   "source": []
  }
 ],
 "metadata": {
  "kernelspec": {
   "display_name": "Python 3 (ipykernel)",
   "language": "python",
   "name": "python3"
  },
  "language_info": {
   "codemirror_mode": {
    "name": "ipython",
    "version": 3
   },
   "file_extension": ".py",
   "mimetype": "text/x-python",
   "name": "python",
   "nbconvert_exporter": "python",
   "pygments_lexer": "ipython3",
   "version": "3.13.3"
  }
 },
 "nbformat": 4,
 "nbformat_minor": 5
}
